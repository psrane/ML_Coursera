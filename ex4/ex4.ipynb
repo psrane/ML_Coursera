{
 "cells": [
  {
   "cell_type": "code",
   "execution_count": 1,
   "metadata": {
    "collapsed": false,
    "deletable": true,
    "editable": true
   },
   "outputs": [],
   "source": [
    "# All required libraries and functions  are imported in this cell\n",
    "from __future__ import division     # Enable floating point division \n",
    "from IPython.utils import io        # Suppress undesired print commands  \n",
    "import os as os                     # Operating system funcitons for navigation pursposes\n",
    "import numpy as np                  # Numerical Library for matrix operations\n",
    "import numpy.random as npr\n",
    "import matplotlib.pyplot as plt     # Plotting Library \n",
    "import scipy.optimize as spo\n",
    "import scipy.io as sio\n",
    "import scipy.misc as scm\n",
    "import warnings as iw\n",
    "import operator                     # Utility for sorting index of value in array\n",
    "\n",
    "%matplotlib inline\n",
    "%config InlineBackend.figure_format = 'retina'  # Sharp plots  \n",
    "\n",
    "data_dir=\"C:/GitHub/ML_Coursera/ex4/data/\""
   ]
  },
  {
   "cell_type": "markdown",
   "metadata": {
    "deletable": true,
    "editable": true
   },
   "source": [
    "##  A: Supporting functions"
   ]
  },
  {
   "cell_type": "markdown",
   "metadata": {
    "deletable": true,
    "editable": true
   },
   "source": [
    "###### Collection of supporting functions that are provided in the exercise\n"
   ]
  },
  {
   "cell_type": "code",
   "execution_count": 2,
   "metadata": {
    "collapsed": true,
    "deletable": true,
    "editable": true
   },
   "outputs": [],
   "source": [
    "# Define hypothesis function for logistic regression\n",
    "def lg_hyp(X,theta):\n",
    "    z = np.matmul(X,theta)\n",
    "    return 1/(1+np.exp(-z))\n",
    "\n",
    "def sigmoid(z):\n",
    "    return 1/(1+np.e**(-z))"
   ]
  },
  {
   "cell_type": "markdown",
   "metadata": {
    "deletable": true,
    "editable": true
   },
   "source": [
    "## B: Utility functions "
   ]
  },
  {
   "cell_type": "markdown",
   "metadata": {
    "deletable": true,
    "editable": true
   },
   "source": [
    "###### Data retival and plot configuration functions"
   ]
  },
  {
   "cell_type": "code",
   "execution_count": 3,
   "metadata": {
    "collapsed": true,
    "deletable": true,
    "editable": true
   },
   "outputs": [],
   "source": [
    "# Return the contents of the data file\n",
    "def load_data(data_dir,f_name):                       \n",
    "    os.chdir(data_dir)\n",
    "    data=sio.loadmat(f_name)\n",
    "    return data"
   ]
  },
  {
   "cell_type": "markdown",
   "metadata": {
    "deletable": true,
    "editable": true
   },
   "source": [
    "## 1 Neural Networks"
   ]
  },
  {
   "cell_type": "markdown",
   "metadata": {
    "deletable": true,
    "editable": true
   },
   "source": [
    "## 1.1 Visualizing the data"
   ]
  },
  {
   "cell_type": "code",
   "execution_count": 4,
   "metadata": {
    "collapsed": false,
    "deletable": true,
    "editable": true
   },
   "outputs": [
    {
     "name": "stdout",
     "output_type": "stream",
     "text": [
      "['y', 'X', '__version__', '__header__', '__globals__']\n"
     ]
    }
   ],
   "source": [
    "data=load_data(data_dir,'ex4data1.mat')             # sio.loadmat returns a dictionary\n",
    "print data.keys()"
   ]
  },
  {
   "cell_type": "code",
   "execution_count": 5,
   "metadata": {
    "collapsed": false,
    "deletable": true,
    "editable": true
   },
   "outputs": [
    {
     "name": "stdout",
     "output_type": "stream",
     "text": [
      "(5000L, 400L) (5000L, 1L)\n"
     ]
    }
   ],
   "source": [
    "X=data['X']\n",
    "y=data['y']     #  y tells us the value for the training example [1:9]-->[1:9],0-->10\n",
    "print X.shape,y.shape"
   ]
  },
  {
   "cell_type": "code",
   "execution_count": 6,
   "metadata": {
    "collapsed": true,
    "deletable": true,
    "editable": true
   },
   "outputs": [],
   "source": [
    "# Restructure unrolled data of grayscale intensity \n",
    "def select_data(X,idx):\n",
    "    row, col = 20, 20         # unroll: 400 = [20, 20]\n",
    "    px_data  = X[idx]         # select an example \n",
    "    \n",
    "    #  Generate matrix of normalized values\n",
    "    px_mat   = (px_data/max(px_data)).reshape((row, col))*255    \n",
    "    return px_mat.T           # Make the image vertical "
   ]
  },
  {
   "cell_type": "code",
   "execution_count": 7,
   "metadata": {
    "collapsed": true,
    "deletable": true,
    "editable": true
   },
   "outputs": [],
   "source": [
    "def displayData(X):\n",
    "    rand=((X.shape[0]*npr.random(100)).astype(int)).reshape(10,10)  # Generate a 10,10 grid of random numbers [0,5000)\n",
    "    pic=np.zeros((200,200))\n",
    "    for i in range(10):\n",
    "        for j in range(10):\n",
    "            mat_a=select_data(X,rand[i][j])\n",
    "            pic[20*i:20*(i+1),20*j:20*(j+1)]=mat_a    # big_mat[row_range,col_range]=small_mat\n",
    "    return scm.toimage(pic)                              # 'L' for Grey Scale "
   ]
  },
  {
   "cell_type": "code",
   "execution_count": 8,
   "metadata": {
    "collapsed": false,
    "deletable": true,
    "editable": true
   },
   "outputs": [
    {
     "data": {
      "text/plain": [
       "<matplotlib.image.AxesImage at 0x85320f0>"
      ]
     },
     "execution_count": 8,
     "metadata": {},
     "output_type": "execute_result"
    },
    {
     "data": {
      "image/png": "[encoded data removed]",
      "text/plain": [
       "<matplotlib.figure.Figure at 0x8513940>"
      ]
     },
     "metadata": {
      "image/png": {
       "height": 513,
       "width": 477
      }
     },
     "output_type": "display_data"
    }
   ],
   "source": [
    "img=displayData(X)\n",
    "#Lets plot the image\n",
    "plt.figure(figsize=(8,8))\n",
    "plt.title('Figure 1: Examples from the dataset',y=-0.15)\n",
    "plt.imshow(img,cmap='gray')"
   ]
  },
  {
   "cell_type": "markdown",
   "metadata": {
    "deletable": true,
    "editable": true
   },
   "source": [
    "## 1.2 Model representation"
   ]
  },
  {
   "cell_type": "code",
   "execution_count": 9,
   "metadata": {
    "collapsed": false,
    "deletable": true,
    "editable": true
   },
   "outputs": [
    {
     "name": "stdout",
     "output_type": "stream",
     "text": [
      "['Theta2', '__version__', '__header__', 'Theta1', '__globals__']\n"
     ]
    }
   ],
   "source": [
    "data_nn=load_data(data_dir,'ex4weights.mat')             # sio.loadmat returns a dictionary\n",
    "print data_nn.keys()"
   ]
  },
  {
   "cell_type": "code",
   "execution_count": 10,
   "metadata": {
    "collapsed": false,
    "deletable": true,
    "editable": true
   },
   "outputs": [
    {
     "name": "stdout",
     "output_type": "stream",
     "text": [
      "(25L, 401L) (10L, 26L)\n"
     ]
    }
   ],
   "source": [
    "THETA =[data_nn['Theta1'],data_nn['Theta2']]\n",
    "print THETA[0].shape, THETA[1].shape"
   ]
  },
  {
   "cell_type": "code",
   "execution_count": 11,
   "metadata": {
    "collapsed": true,
    "deletable": true,
    "editable": true
   },
   "outputs": [],
   "source": [
    "# input shape for layers\n",
    "L=3                        # Number of layers\n",
    "\n",
    "# Neural units in each layer without bias unit\n",
    "nu_L1=400                  # Input layer \n",
    "nu_L2=25                   # Hidden layer \n",
    "nu_L3=10                   # Output layer "
   ]
  },
  {
   "cell_type": "code",
   "execution_count": 12,
   "metadata": {
    "collapsed": false,
    "deletable": true,
    "editable": true
   },
   "outputs": [],
   "source": [
    "K=10                       # Neural units in output layer         \n",
    "m=X.shape[0]               # Number of training examplesb"
   ]
  },
  {
   "cell_type": "code",
   "execution_count": 13,
   "metadata": {
    "collapsed": false,
    "deletable": true,
    "editable": true
   },
   "outputs": [
    {
     "name": "stdout",
     "output_type": "stream",
     "text": [
      "[ -1.05624163e-08   7.66168682e-09  -8.77654466e-09  -6.31835805e-09\n",
      "   8.14776724e-09  -7.76628103e-09  -6.38021750e-09   8.05170531e-09\n",
      "   5.88120074e-10  -8.93864625e-09  -9.72549575e-09  -4.88182536e-09\n",
      "  -1.58217927e-09   1.04479599e-08  -9.69310074e-09  -8.95204241e-09\n",
      "  -9.72618005e-09   6.79302157e-09  -5.96869327e-09  -5.66060774e-09\n",
      "   4.75278517e-09  -2.09991386e-09  -8.89272060e-09   3.05178374e-10\n",
      "   8.85876862e-09]\n"
     ]
    }
   ],
   "source": [
    "print THETA[0][:,1]"
   ]
  },
  {
   "cell_type": "markdown",
   "metadata": {
    "deletable": true,
    "editable": true
   },
   "source": [
    "## 1.3, 1.4 Feedforward and cost function with regularization"
   ]
  },
  {
   "cell_type": "code",
   "execution_count": 14,
   "metadata": {
    "collapsed": false,
    "deletable": true,
    "editable": true
   },
   "outputs": [],
   "source": [
    "def flatten_THETA(THETA, flag=0):             # flag=0 flatten theta for operation \n",
    "    tf=[]                                     # flag=1 flatten theta[:,1:] for regularization\n",
    "    if flag==0:\n",
    "        for i in np.arange(L-1):\n",
    "            tf+=list(THETA[i].flatten())\n",
    "    if flag==1: \n",
    "        for i in np.arange(L-1):\n",
    "            tf+=list(THETA[i][:,1:].flatten())\n",
    "    tf=np.array(tf)\n",
    "    tf=np.array(tf).flatten()\n",
    "    return tf\n",
    "\n",
    "def reshape_THETA(flatTHETA):\n",
    "    global L \n",
    "    THETA=list(np.ones(L-1))\n",
    "    THETA[0]=flatTHETA[:401*25].reshape((25,401))\n",
    "    THETA[1]=flatTHETA[401*25:].reshape((10,26))\n",
    "    return THETA"
   ]
  },
  {
   "cell_type": "markdown",
   "metadata": {},
   "source": [
    "#### Test flatten_THETA and reshape_THETA"
   ]
  },
  {
   "cell_type": "code",
   "execution_count": 48,
   "metadata": {
    "collapsed": false,
    "deletable": true,
    "editable": true
   },
   "outputs": [
    {
     "name": "stdout",
     "output_type": "stream",
     "text": [
      "(10285L,)\n",
      "(25L, 401L) (10L, 26L)\n",
      "(10285L,)\n"
     ]
    },
    {
     "data": {
      "text/plain": [
       "array([ True,  True,  True, ...,  True,  True,  True], dtype=bool)"
      ]
     },
     "execution_count": 48,
     "metadata": {},
     "output_type": "execute_result"
    }
   ],
   "source": [
    "ft=flatten_THETA(THETA, flag=0)\n",
    "print ft.shape      # Expected Shape= 25*401+10*26 =10285\n",
    "\n",
    "tf=reshape_THETA(ft)\n",
    "print tf[0].shape,tf[1].shape\n",
    "\n",
    "ft1=flatten_THETA(THETA,flag=0)\n",
    "print ft.shape\n",
    "ft==ft1"
   ]
  },
  {
   "cell_type": "code",
   "execution_count": 16,
   "metadata": {
    "collapsed": false,
    "deletable": true,
    "editable": true
   },
   "outputs": [
    {
     "name": "stdout",
     "output_type": "stream",
     "text": [
      "[ 1  2  3  4  5  6  7  8  9 10]\n"
     ]
    }
   ],
   "source": [
    "print np.unique(y)"
   ]
  },
  {
   "cell_type": "code",
   "execution_count": 17,
   "metadata": {
    "collapsed": true,
    "deletable": true,
    "editable": true
   },
   "outputs": [],
   "source": [
    "'''\n",
    "0 is marked as 10 in y.\n",
    "The nerual network outputs zero at its last node\n",
    "The onHotEncoding for 0 will be [0......0 1]\n",
    "'''\n",
    "def oneHotEncoder(y):        # Generate vecotors of form [1 0 0 ...]\n",
    "    y_mat=np.zeros((5000,10))\n",
    "    for i in np.arange(len(y)):\n",
    "        j=y[i]-1\n",
    "        y_mat[i][j]=1\n",
    "    return y_mat"
   ]
  },
  {
   "cell_type": "code",
   "execution_count": 18,
   "metadata": {
    "collapsed": false,
    "deletable": true,
    "editable": true
   },
   "outputs": [],
   "source": [
    "y_mat=oneHotEncoder(y)"
   ]
  },
  {
   "cell_type": "raw",
   "metadata": {
    "deletable": true,
    "editable": true
   },
   "source": [
    "L1         L2                 L3\n",
    "           z2=s(th1,a1)       z3=s(th2,a2)\n",
    "th1        th2 \n",
    "\n",
    "a1=xi      a2=g(z2)           a3=g(z3)"
   ]
  },
  {
   "cell_type": "code",
   "execution_count": 19,
   "metadata": {
    "collapsed": true,
    "deletable": true,
    "editable": true
   },
   "outputs": [],
   "source": [
    "# Using sigmoid function here instead of lg_hyp so I could have z values explicitly \n",
    "def feedForwardPropagation(a,THETA):\n",
    "    a1=np.insert(a,0,1)\n",
    "    z2=np.matmul(THETA[0],a1)\n",
    "    \n",
    "    a2=sigmoid(z2)\n",
    "    a2=np.insert(a2,0,1)\n",
    "    \n",
    "    z3=np.matmul(THETA[1],a2)\n",
    "    a3=sigmoid(z3)\n",
    "    \n",
    "    A=[a1,a2,a3]\n",
    "    Z=[z2,z3]\n",
    "        \n",
    "    return A,Z"
   ]
  },
  {
   "cell_type": "code",
   "execution_count": 20,
   "metadata": {
    "collapsed": false,
    "deletable": true,
    "editable": true
   },
   "outputs": [
    {
     "name": "stdout",
     "output_type": "stream",
     "text": [
      "[  4.79026796e-04   2.41495958e-03   3.44755685e-03   4.05616281e-05\n",
      "   6.53412433e-03   1.75930169e-03   1.15788527e-02   2.39107046e-03\n",
      "   1.97025086e-03   9.95696931e-01]\n"
     ]
    }
   ],
   "source": [
    "A,Z=feedForwardPropagation(a=X[1],THETA=THETA)\n",
    "print A[-1]"
   ]
  },
  {
   "cell_type": "code",
   "execution_count": 21,
   "metadata": {
    "collapsed": true,
    "deletable": true,
    "editable": true
   },
   "outputs": [],
   "source": [
    "def ffd_loop(X,THETA):\n",
    "    yp_mat=np.zeros((m,K))\n",
    "    for i in np.arange(m):\n",
    "        yp_arr,Z  = feedForwardPropagation(a=X[i], THETA=THETA)    # Hypothesis Array\n",
    "        yp_mat[i] = yp_arr[-1]                                      # Predicted values: last activation function\n",
    "    return yp_mat        "
   ]
  },
  {
   "cell_type": "code",
   "execution_count": 22,
   "metadata": {
    "collapsed": false,
    "deletable": true,
    "editable": true
   },
   "outputs": [],
   "source": [
    "yp_mat = ffd_loop(X,THETA)"
   ]
  },
  {
   "cell_type": "markdown",
   "metadata": {
    "deletable": true,
    "editable": true
   },
   "source": [
    "#### nnCostFunction-----------------------------------------------------------------------------------------------------------------------------"
   ]
  },
  {
   "cell_type": "code",
   "execution_count": 23,
   "metadata": {
    "collapsed": false,
    "deletable": true,
    "editable": true
   },
   "outputs": [],
   "source": [
    "def nnCostFunction(X,y_mat,THETA_flat,lambdA):\n",
    "    THETA=reshape_THETA(THETA_flat)\n",
    "    \n",
    "    # Generate the probability values using forward propagation \n",
    "    yp_mat = ffd_loop(X,THETA)          \n",
    "    \n",
    "    # Flatten 2D-matrices\n",
    "    H      = yp_mat.flatten()\n",
    "    yf     = y_mat.flatten()\n",
    "    tf     = flatten_THETA(THETA=THETA,flag=0)\n",
    "    \n",
    "    # Compute cost function terms\n",
    "    t1     = -yf.dot((np.log(H)).T)/m\n",
    "    t2     = -(1-yf).dot((np.log(1-H)).T)/m\n",
    "    t3_reg = tf.dot(tf.T)*lambdA/(2*m)\n",
    "    return t1+t2+t3_reg"
   ]
  },
  {
   "cell_type": "markdown",
   "metadata": {
    "deletable": true,
    "editable": true
   },
   "source": [
    "#### nnCostFunction w/ lambda=0"
   ]
  },
  {
   "cell_type": "code",
   "execution_count": 24,
   "metadata": {
    "collapsed": false,
    "deletable": true,
    "editable": true
   },
   "outputs": [
    {
     "name": "stdout",
     "output_type": "stream",
     "text": [
      "Computed Cost for Neural Network : 0.287629165161 \n",
      "Estimated Cost for Neural Network: 0.287629 \n"
     ]
    }
   ],
   "source": [
    "print'Computed Cost for Neural Network :', nnCostFunction(X=X,y_mat=y_mat, THETA_flat=flatten_THETA(THETA), lambdA=0),'\\n', \\\n",
    "      'Estimated Cost for Neural Network: 0.287629 ' "
   ]
  },
  {
   "cell_type": "markdown",
   "metadata": {
    "deletable": true,
    "editable": true
   },
   "source": [
    "#### nnCostFunction w/  lambda=1"
   ]
  },
  {
   "cell_type": "code",
   "execution_count": 25,
   "metadata": {
    "collapsed": false,
    "deletable": true,
    "editable": true
   },
   "outputs": [
    {
     "name": "stdout",
     "output_type": "stream",
     "text": [
      "Computed Cost for Neural Network with lambda=1 : 0.384487796243 \n",
      "Estimated Cost for Neural Network with lambda=1: 0.383770 \n"
     ]
    }
   ],
   "source": [
    "print'Computed Cost for Neural Network with lambda=1 :', nnCostFunction(X=X,y_mat=y_mat, THETA_flat=flatten_THETA(THETA), lambdA=1),'\\n', \\\n",
    "      'Estimated Cost for Neural Network with lambda=1: 0.383770 ' "
   ]
  },
  {
   "cell_type": "markdown",
   "metadata": {
    "collapsed": true,
    "deletable": true,
    "editable": true
   },
   "source": [
    " ## 2 Backpropagation"
   ]
  },
  {
   "cell_type": "markdown",
   "metadata": {
    "collapsed": true,
    "deletable": true,
    "editable": true
   },
   "source": [
    "## 2.1 Sigmoid gradient"
   ]
  },
  {
   "cell_type": "markdown",
   "metadata": {
    "deletable": true,
    "editable": true
   },
   "source": [
    "#### sigmoidGradient----------------------------------------------------------------------------------------------------------------------------"
   ]
  },
  {
   "cell_type": "code",
   "execution_count": 26,
   "metadata": {
    "collapsed": true,
    "deletable": true,
    "editable": true
   },
   "outputs": [],
   "source": [
    "def sigmoidGradient(z):\n",
    "    gz=1/(1+np.e**(-z))\n",
    "    return np.multiply(gz,(1-gz))"
   ]
  },
  {
   "cell_type": "code",
   "execution_count": 27,
   "metadata": {
    "collapsed": false,
    "deletable": true,
    "editable": true
   },
   "outputs": [
    {
     "data": {
      "text/plain": [
       "0.25"
      ]
     },
     "execution_count": 27,
     "metadata": {},
     "output_type": "execute_result"
    }
   ],
   "source": [
    "sigmoidGradient(0)"
   ]
  },
  {
   "cell_type": "markdown",
   "metadata": {
    "deletable": true,
    "editable": true
   },
   "source": [
    "## 2.2 Random initialization"
   ]
  },
  {
   "cell_type": "code",
   "execution_count": 28,
   "metadata": {
    "collapsed": true,
    "deletable": true,
    "editable": true
   },
   "outputs": [],
   "source": [
    "def randInitializeWeights(NU=[nu_L1,nu_L2,nu_L3]):\n",
    "    global L\n",
    "    THETA=list(np.ones(L-1))                           # Number of theta Matrices\n",
    "    \n",
    "    epsilon_init=0.12                                  \n",
    "    for i in np.arange(L-1):\n",
    "        wt = npr.random(([NU[i+1],NU[i]+1]))*2*epsilon_init-epsilon_init  # Thumb rule for intialization    \n",
    "        THETA[i]=wt\n",
    "    return THETA     "
   ]
  },
  {
   "cell_type": "code",
   "execution_count": 29,
   "metadata": {
    "collapsed": false,
    "deletable": true,
    "editable": true
   },
   "outputs": [
    {
     "name": "stdout",
     "output_type": "stream",
     "text": [
      "Theta for the input layer 1:  (25L, 401L) \n",
      "THETA[0] samples: \n",
      "[[ 0.08866103  0.05287507  0.07664992  0.04442609  0.07846026]\n",
      " [ 0.00392618  0.06995183 -0.06154289 -0.06888854 -0.10697748]\n",
      " [ 0.11384859  0.11194115 -0.11918648 -0.05112735  0.10360327]\n",
      " [ 0.08405143 -0.0998848  -0.08676486 -0.03849888  0.02405707]\n",
      " [-0.0847542   0.0089568   0.11254526 -0.00540638 -0.02452292]] \n",
      "\n",
      "Theta for the input layer 2:  (10L, 26L) \n",
      "THETA[1] samples: \n",
      "[[-0.02388786 -0.02533019  0.01091904 -0.04486811 -0.01775288]\n",
      " [ 0.10985418 -0.10845179  0.04069774  0.1143796  -0.06273356]\n",
      " [ 0.05899914  0.09092567  0.07660626 -0.03259596 -0.11384947]\n",
      " [ 0.02584681  0.11640853 -0.07803129  0.07968146  0.10584756]\n",
      " [-0.05320647  0.04788599  0.01839865 -0.1158644  -0.0748233 ]]\n"
     ]
    }
   ],
   "source": [
    "THETA=randInitializeWeights()\n",
    "# Check Dimensions\n",
    "print \"Theta for the input layer 1: \" , THETA[0].shape,\"\\n\", \"THETA[0] samples:\", \"\\n\" ,THETA[0][:5,:5], \"\\n\\n\", \\\n",
    "      \"Theta for the input layer 2: \" , THETA[1].shape,\"\\n\", \"THETA[1] samples:\", \"\\n\" ,THETA[1][:5:,:5]                    "
   ]
  },
  {
   "cell_type": "code",
   "execution_count": 30,
   "metadata": {
    "collapsed": true,
    "deletable": true,
    "editable": true
   },
   "outputs": [],
   "source": [
    "## 2.3 Backpropagation"
   ]
  },
  {
   "cell_type": "code",
   "execution_count": 31,
   "metadata": {
    "collapsed": false,
    "deletable": true,
    "editable": true
   },
   "outputs": [
    {
     "name": "stdout",
     "output_type": "stream",
     "text": [
      "(10L,) (10L, 26L) (25L, 401L)\n"
     ]
    }
   ],
   "source": [
    "print y_mat[0].shape,THETA[1].shape,THETA[0].shape"
   ]
  },
  {
   "cell_type": "code",
   "execution_count": 32,
   "metadata": {
    "collapsed": false,
    "deletable": true,
    "editable": true
   },
   "outputs": [
    {
     "name": "stdout",
     "output_type": "stream",
     "text": [
      "(401L,) (26L,) (10L,)\n",
      "(25L,) (10L,)\n"
     ]
    }
   ],
   "source": [
    "print A[0].shape, A[1].shape, A[2].shape\n",
    "print Z[0].shape, Z[1].shape"
   ]
  },
  {
   "cell_type": "code",
   "execution_count": 45,
   "metadata": {
    "collapsed": false,
    "deletable": true,
    "editable": true
   },
   "outputs": [],
   "source": [
    "def backPropagation(X,THETA_flat,y_mat,lambdA=0):\n",
    "    THETA=reshape_THETA(THETA_flat)\n",
    "    \n",
    "    D2=np.zeros(THETA[1].shape)               \n",
    "    D1=np.zeros(THETA[0].shape)\n",
    "    #print D2.shape,D1.shape\n",
    "    for i in np.arange(m):\n",
    "        # Step 1\n",
    "        a=X[i]                                   # Set a=x[i]\n",
    "        \n",
    "        A,Z=feedForwardPropagation(a, THETA)     # Perform forward propagation\n",
    "        \n",
    "        # It is possible to loop and minimize lines of code but it resulted in me tracking too many things hence I have simplified it        \n",
    "        \n",
    "        a1=A[0].reshape((A[0].shape[0],1))                 # covert into 2D arrays           \n",
    "        a2=A[1].reshape((A[1].shape[0],1))\n",
    "        a3=A[2].reshape((A[2].shape[0],1))\n",
    "        \n",
    "        z2=Z[0].reshape((Z[0].shape[0],1))\n",
    "        z3=Z[1].reshape((Z[1].shape[0],1))\n",
    "        \n",
    "        th1=THETA[0]\n",
    "        th2=THETA[1]\n",
    "        \n",
    "        yi=y_mat[i].reshape((y_mat[i].shape[0],1))\n",
    "        \n",
    "\n",
    "        if i==1:print a3.shape, a2.shape, a1.shape, z3.shape, z2.shape\n",
    "        \n",
    "        # Step 2  :Layer 3\n",
    "        d3=(a3-yi)                     # d3 = 10 x 1\n",
    "       \n",
    "        # Step 3  :Layer 2\n",
    "        d2=np.multiply( np.matmul(th2[:,1:].T,d3), sigmoidGradient(z2)  )\n",
    "        if i==1:print d3.shape, d2.shape, i\n",
    "        #print np.matmul(d3,a2.T).shape,d2.dot(a1.T).shape\n",
    "        \n",
    "        # Step 4\n",
    "        d3.dot(a2.T)[:,1:].shape\n",
    "        D2[:,1:]+=D2[:,1:]+d3.dot(a2.T)[:,1:]\n",
    "        D1[:,1:]+=D1[:,1:]+d2.dot(a1.T)[:,1:]\n",
    "        \n",
    "    # Step /5\n",
    "    J2 = D2.flatten()/m\n",
    "    J1 = D1.flatten()/m\n",
    "    Jp=np.array(list(J1)+list(J2))\n",
    "    print len(Jp)\n",
    "    return Jp"
   ]
  },
  {
   "cell_type": "code",
   "execution_count": 46,
   "metadata": {
    "collapsed": false,
    "deletable": true,
    "editable": true
   },
   "outputs": [
    {
     "name": "stdout",
     "output_type": "stream",
     "text": [
      "(10L, 1L) (26L, 1L) (401L, 1L) (10L, 1L) (25L, 1L)\n",
      "(10L, 1L) (25L, 1L) 1\n"
     ]
    },
    {
     "name": "stderr",
     "output_type": "stream",
     "text": [
      "C:\\Users\\Parag Rane\\AppData\\Local\\Enthought\\Canopy\\User\\lib\\site-packages\\ipykernel\\__main__.py:40: RuntimeWarning: overflow encountered in add\n",
      "C:\\Users\\Parag Rane\\AppData\\Local\\Enthought\\Canopy\\User\\lib\\site-packages\\ipykernel\\__main__.py:41: RuntimeWarning: overflow encountered in add\n"
     ]
    },
    {
     "name": "stdout",
     "output_type": "stream",
     "text": [
      "10285\n"
     ]
    }
   ],
   "source": [
    "fprime = backPropagation(X,THETA_flat=flatten_THETA(THETA,flag=0),y_mat=y_mat)"
   ]
  },
  {
   "cell_type": "markdown",
   "metadata": {
    "deletable": true,
    "editable": true
   },
   "source": [
    "## 2.4 Gradient Checking"
   ]
  },
  {
   "cell_type": "code",
   "execution_count": null,
   "metadata": {
    "collapsed": true,
    "deletable": true,
    "editable": true
   },
   "outputs": [],
   "source": [
    "def computeNumericalGradient(THETA):\n",
    "    flat_THETA=\n",
    "def checkNNGradients()"
   ]
  },
  {
   "cell_type": "code",
   "execution_count": null,
   "metadata": {
    "collapsed": false,
    "deletable": true,
    "editable": true
   },
   "outputs": [],
   "source": []
  },
  {
   "cell_type": "code",
   "execution_count": null,
   "metadata": {
    "collapsed": true,
    "deletable": true,
    "editable": true
   },
   "outputs": [],
   "source": [
    "# Using sigmoid function here instead of lg_hyp so I could have z values explicitly \n",
    "def feedForwardPropagation(a,THETA):\n",
    "    A=list(np.ones(L-1))            # We do not need to store the first activation\n",
    "    Z=list(np.ones(L-1))\n",
    "    for i in np.arange(L-1):\n",
    "   \n",
    "        a=np.insert(a,0,1)          # Add bias unit       \n",
    "        z=np.matmul(THETA[i],a)     # Compute z\n",
    "        a=sigmoid(z)                # Compute activaiton function\n",
    "\n",
    "        Z[i]=z                      # Store z\n",
    "        A[i]=a                      # Store activation functions without bias units\n",
    "        \n",
    "    return A,Z"
   ]
  }
 ],
 "metadata": {
  "kernelspec": {
   "display_name": "Python 2",
   "language": "python",
   "name": "python2"
  },
  "language_info": {
   "codemirror_mode": {
    "name": "ipython",
    "version": 2
   },
   "file_extension": ".py",
   "mimetype": "text/x-python",
   "name": "python",
   "nbconvert_exporter": "python",
   "pygments_lexer": "ipython2",
   "version": "2.7.11"
  }
 },
 "nbformat": 4,
 "nbformat_minor": 0
}
